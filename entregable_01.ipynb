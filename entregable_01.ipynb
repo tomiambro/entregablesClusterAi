{
 "cells": [
  {
   "cell_type": "code",
   "execution_count": 1,
   "metadata": {},
   "outputs": [],
   "source": [
    "import numpy as np\n",
    "import pandas as pd\n",
    "import matplotlib.pyplot as plt\n",
    "import seaborn as sns\n",
    "from IPython.display import Image"
   ]
  },
  {
   "cell_type": "code",
   "execution_count": 2,
   "metadata": {},
   "outputs": [],
   "source": [
    "from sklearn.preprocessing import StandardScaler, PolynomialFeatures\n",
    "from sklearn.model_selection import train_test_split\n",
    "from sklearn.linear_model import LinearRegression, Ridge\n",
    "from sklearn.svm import SVR\n",
    "from sklearn.svm import LinearSVR\n",
    "from sklearn.neighbors import KNeighborsRegressor\n",
    "from sklearn.ensemble import RandomForestRegressor\n",
    "from sklearn.metrics import r2_score, mean_squared_error\n",
    "\n",
    "from sklearn.model_selection import GridSearchCV\n",
    "from sklearn.decomposition import PCA"
   ]
  },
  {
   "cell_type": "code",
   "execution_count": 3,
   "metadata": {},
   "outputs": [
    {
     "name": "stdout",
     "output_type": "stream",
     "text": [
      "X_test.csv  Xy_train.csv\r\n"
     ]
    }
   ],
   "source": [
    "ls 'data'"
   ]
  },
  {
   "cell_type": "code",
   "execution_count": 4,
   "metadata": {},
   "outputs": [
    {
     "data": {
      "text/html": [
       "<div>\n",
       "<style scoped>\n",
       "    .dataframe tbody tr th:only-of-type {\n",
       "        vertical-align: middle;\n",
       "    }\n",
       "\n",
       "    .dataframe tbody tr th {\n",
       "        vertical-align: top;\n",
       "    }\n",
       "\n",
       "    .dataframe thead th {\n",
       "        text-align: right;\n",
       "    }\n",
       "</style>\n",
       "<table border=\"1\" class=\"dataframe\">\n",
       "  <thead>\n",
       "    <tr style=\"text-align: right;\">\n",
       "      <th></th>\n",
       "      <th>X</th>\n",
       "      <th>y</th>\n",
       "    </tr>\n",
       "  </thead>\n",
       "  <tbody>\n",
       "    <tr>\n",
       "      <th>0</th>\n",
       "      <td>2.273360</td>\n",
       "      <td>6.054685</td>\n",
       "    </tr>\n",
       "    <tr>\n",
       "      <th>1</th>\n",
       "      <td>3.167583</td>\n",
       "      <td>4.581428</td>\n",
       "    </tr>\n",
       "    <tr>\n",
       "      <th>2</th>\n",
       "      <td>7.973655</td>\n",
       "      <td>5.392507</td>\n",
       "    </tr>\n",
       "    <tr>\n",
       "      <th>3</th>\n",
       "      <td>6.762547</td>\n",
       "      <td>3.108068</td>\n",
       "    </tr>\n",
       "    <tr>\n",
       "      <th>4</th>\n",
       "      <td>3.911096</td>\n",
       "      <td>4.225744</td>\n",
       "    </tr>\n",
       "    <tr>\n",
       "      <th>...</th>\n",
       "      <td>...</td>\n",
       "      <td>...</td>\n",
       "    </tr>\n",
       "    <tr>\n",
       "      <th>95</th>\n",
       "      <td>3.787495</td>\n",
       "      <td>5.133706</td>\n",
       "    </tr>\n",
       "    <tr>\n",
       "      <th>96</th>\n",
       "      <td>2.759471</td>\n",
       "      <td>4.308327</td>\n",
       "    </tr>\n",
       "    <tr>\n",
       "      <th>97</th>\n",
       "      <td>9.661041</td>\n",
       "      <td>11.923565</td>\n",
       "    </tr>\n",
       "    <tr>\n",
       "      <th>98</th>\n",
       "      <td>0.582026</td>\n",
       "      <td>1.335725</td>\n",
       "    </tr>\n",
       "    <tr>\n",
       "      <th>99</th>\n",
       "      <td>4.087339</td>\n",
       "      <td>5.641851</td>\n",
       "    </tr>\n",
       "  </tbody>\n",
       "</table>\n",
       "<p>100 rows × 2 columns</p>\n",
       "</div>"
      ],
      "text/plain": [
       "           X          y\n",
       "0   2.273360   6.054685\n",
       "1   3.167583   4.581428\n",
       "2   7.973655   5.392507\n",
       "3   6.762547   3.108068\n",
       "4   3.911096   4.225744\n",
       "..       ...        ...\n",
       "95  3.787495   5.133706\n",
       "96  2.759471   4.308327\n",
       "97  9.661041  11.923565\n",
       "98  0.582026   1.335725\n",
       "99  4.087339   5.641851\n",
       "\n",
       "[100 rows x 2 columns]"
      ]
     },
     "execution_count": 4,
     "metadata": {},
     "output_type": "execute_result"
    }
   ],
   "source": [
    "df_raw = pd.read_csv('data/Xy_train.csv', delimiter=',')\n",
    "df_raw"
   ]
  },
  {
   "cell_type": "code",
   "execution_count": 5,
   "metadata": {},
   "outputs": [],
   "source": [
    "res = pd.DataFrame({'model':[], 'r2':[] , 'mean squared error': []})"
   ]
  },
  {
   "cell_type": "code",
   "execution_count": 6,
   "metadata": {},
   "outputs": [
    {
     "data": {
      "text/plain": [
       "X    0\n",
       "y    0\n",
       "dtype: int64"
      ]
     },
     "execution_count": 6,
     "metadata": {},
     "output_type": "execute_result"
    }
   ],
   "source": [
    "df_raw.isnull().sum()"
   ]
  },
  {
   "cell_type": "code",
   "execution_count": 7,
   "metadata": {},
   "outputs": [
    {
     "data": {
      "text/plain": [
       "0     2.273360\n",
       "1     3.167583\n",
       "2     7.973655\n",
       "3     6.762547\n",
       "4     3.911096\n",
       "        ...   \n",
       "95    3.787495\n",
       "96    2.759471\n",
       "97    9.661041\n",
       "98    0.582026\n",
       "99    4.087339\n",
       "Name: X, Length: 100, dtype: float64"
      ]
     },
     "execution_count": 7,
     "metadata": {},
     "output_type": "execute_result"
    }
   ],
   "source": [
    "df_raw.X"
   ]
  },
  {
   "cell_type": "code",
   "execution_count": 8,
   "metadata": {},
   "outputs": [
    {
     "data": {
      "text/html": [
       "<div>\n",
       "<style scoped>\n",
       "    .dataframe tbody tr th:only-of-type {\n",
       "        vertical-align: middle;\n",
       "    }\n",
       "\n",
       "    .dataframe tbody tr th {\n",
       "        vertical-align: top;\n",
       "    }\n",
       "\n",
       "    .dataframe thead th {\n",
       "        text-align: right;\n",
       "    }\n",
       "</style>\n",
       "<table border=\"1\" class=\"dataframe\">\n",
       "  <thead>\n",
       "    <tr style=\"text-align: right;\">\n",
       "      <th></th>\n",
       "      <th>X</th>\n",
       "      <th>y</th>\n",
       "    </tr>\n",
       "  </thead>\n",
       "  <tbody>\n",
       "    <tr>\n",
       "      <th>count</th>\n",
       "      <td>100.000000</td>\n",
       "      <td>100.000000</td>\n",
       "    </tr>\n",
       "    <tr>\n",
       "      <th>mean</th>\n",
       "      <td>4.534694</td>\n",
       "      <td>5.073047</td>\n",
       "    </tr>\n",
       "    <tr>\n",
       "      <th>std</th>\n",
       "      <td>2.734487</td>\n",
       "      <td>2.398315</td>\n",
       "    </tr>\n",
       "    <tr>\n",
       "      <th>min</th>\n",
       "      <td>0.050223</td>\n",
       "      <td>-0.259323</td>\n",
       "    </tr>\n",
       "    <tr>\n",
       "      <th>25%</th>\n",
       "      <td>2.415300</td>\n",
       "      <td>3.735343</td>\n",
       "    </tr>\n",
       "    <tr>\n",
       "      <th>50%</th>\n",
       "      <td>3.999217</td>\n",
       "      <td>4.670649</td>\n",
       "    </tr>\n",
       "    <tr>\n",
       "      <th>75%</th>\n",
       "      <td>6.686171</td>\n",
       "      <td>5.761732</td>\n",
       "    </tr>\n",
       "    <tr>\n",
       "      <th>max</th>\n",
       "      <td>9.728298</td>\n",
       "      <td>13.930549</td>\n",
       "    </tr>\n",
       "  </tbody>\n",
       "</table>\n",
       "</div>"
      ],
      "text/plain": [
       "                X           y\n",
       "count  100.000000  100.000000\n",
       "mean     4.534694    5.073047\n",
       "std      2.734487    2.398315\n",
       "min      0.050223   -0.259323\n",
       "25%      2.415300    3.735343\n",
       "50%      3.999217    4.670649\n",
       "75%      6.686171    5.761732\n",
       "max      9.728298   13.930549"
      ]
     },
     "execution_count": 8,
     "metadata": {},
     "output_type": "execute_result"
    }
   ],
   "source": [
    "df_raw.describe()"
   ]
  },
  {
   "cell_type": "code",
   "execution_count": 9,
   "metadata": {},
   "outputs": [
    {
     "data": {
      "image/png": "[encoded data removed]",
      "text/plain": [
       "<Figure size 432x288 with 1 Axes>"
      ]
     },
     "metadata": {
      "needs_background": "light"
     },
     "output_type": "display_data"
    }
   ],
   "source": [
    "plt.boxplot(df_raw.X)\n",
    "plt.show()"
   ]
  },
  {
   "cell_type": "markdown",
   "metadata": {},
   "source": [
    "## Separo en train y validation"
   ]
  },
  {
   "cell_type": "code",
   "execution_count": 10,
   "metadata": {},
   "outputs": [],
   "source": [
    "xtrain, xtest, ytrain, ytest = train_test_split(df_raw.X, df_raw.y, test_size=0.2, random_state=1)\n",
    "xtrain = np.array(xtrain).reshape(-1,1)\n",
    "xtest = np.array(xtest).reshape(-1,1)"
   ]
  },
  {
   "cell_type": "code",
   "execution_count": 11,
   "metadata": {},
   "outputs": [
    {
     "data": {
      "image/png": "[encoded data removed]",
      "text/plain": [
       "<Figure size 432x288 with 1 Axes>"
      ]
     },
     "metadata": {
      "needs_background": "light"
     },
     "output_type": "display_data"
    }
   ],
   "source": [
    "plt.scatter(xtrain, ytrain)\n",
    "plt.show()"
   ]
  },
  {
   "cell_type": "markdown",
   "metadata": {},
   "source": [
    "## Creo unos primeros modelos para ver cual es mi baseline en cuestion de Mean Squared Error"
   ]
  },
  {
   "cell_type": "code",
   "execution_count": 12,
   "metadata": {},
   "outputs": [
    {
     "data": {
      "text/plain": [
       "(0.3134111868879067, 5.379886011391579)"
      ]
     },
     "execution_count": 12,
     "metadata": {},
     "output_type": "execute_result"
    }
   ],
   "source": [
    "lr = LinearRegression(n_jobs=4)\n",
    "lr.fit(xtrain, ytrain)\n",
    "r2_score(ytest, lr.predict(xtest)), mean_squared_error(ytest, lr.predict(xtest))"
   ]
  },
  {
   "cell_type": "code",
   "execution_count": 13,
   "metadata": {},
   "outputs": [],
   "source": [
    "res = res.append({'model':'Linear Reg',\n",
    "            'r2':r2_score(ytest, lr.predict(xtest)),\n",
    "            'mean squared error':mean_squared_error(ytest, lr.predict(xtest))},\n",
    "           ignore_index=True)"
   ]
  },
  {
   "cell_type": "code",
   "execution_count": 14,
   "metadata": {},
   "outputs": [
    {
     "data": {
      "text/plain": [
       "(0.3134031972643121, 5.379948615476283)"
      ]
     },
     "execution_count": 14,
     "metadata": {},
     "output_type": "execute_result"
    }
   ],
   "source": [
    "r = Ridge()\n",
    "r.fit(xtrain, ytrain)\n",
    "r2_score(ytest, r.predict(xtest)), mean_squared_error(ytest, r.predict(xtest))"
   ]
  },
  {
   "cell_type": "code",
   "execution_count": 15,
   "metadata": {},
   "outputs": [],
   "source": [
    "res = res.append({'model':'Ridge Reg',\n",
    "            'r2':r2_score(ytest, r.predict(xtest)),\n",
    "            'mean squared error':mean_squared_error(ytest, r.predict(xtest))},\n",
    "           ignore_index=True)"
   ]
  },
  {
   "cell_type": "code",
   "execution_count": 16,
   "metadata": {},
   "outputs": [
    {
     "data": {
      "text/plain": [
       "(0.746096476231106, 1.989505202649277)"
      ]
     },
     "execution_count": 16,
     "metadata": {},
     "output_type": "execute_result"
    }
   ],
   "source": [
    "svr = SVR()\n",
    "svr.fit(xtrain, ytrain)\n",
    "r2_score(ytest, svr.predict(xtest)), mean_squared_error(ytest, svr.predict(xtest))"
   ]
  },
  {
   "cell_type": "code",
   "execution_count": 17,
   "metadata": {},
   "outputs": [],
   "source": [
    "res = res.append({'model':'SVR',\n",
    "            'r2':r2_score(ytest, svr.predict(xtest)),\n",
    "            'mean squared error':mean_squared_error(ytest, svr.predict(xtest))},\n",
    "           ignore_index=True)"
   ]
  },
  {
   "cell_type": "code",
   "execution_count": 18,
   "metadata": {},
   "outputs": [
    {
     "data": {
      "text/plain": [
       "(0.8630267111574106, 1.0732780180882988)"
      ]
     },
     "execution_count": 18,
     "metadata": {},
     "output_type": "execute_result"
    }
   ],
   "source": [
    "knr = KNeighborsRegressor(n_jobs=4)\n",
    "knr.fit(xtrain, ytrain)\n",
    "r2_score(ytest, knr.predict(xtest)), mean_squared_error(ytest, knr.predict(xtest))"
   ]
  },
  {
   "cell_type": "code",
   "execution_count": 19,
   "metadata": {},
   "outputs": [],
   "source": [
    "res = res.append({'model':'KNR',\n",
    "            'r2':r2_score(ytest, knr.predict(xtest)),\n",
    "            'mean squared error':mean_squared_error(ytest, knr.predict(xtest))},\n",
    "           ignore_index=True)"
   ]
  },
  {
   "cell_type": "code",
   "execution_count": 20,
   "metadata": {},
   "outputs": [
    {
     "data": {
      "text/plain": [
       "(0.8748211496018412, 0.9808606451459699)"
      ]
     },
     "execution_count": 20,
     "metadata": {},
     "output_type": "execute_result"
    }
   ],
   "source": [
    "rf = RandomForestRegressor(n_jobs=4)\n",
    "rf.fit(xtrain, ytrain)\n",
    "r2_score(ytest, rf.predict(xtest)), mean_squared_error(ytest, rf.predict(xtest))"
   ]
  },
  {
   "cell_type": "code",
   "execution_count": 21,
   "metadata": {},
   "outputs": [],
   "source": [
    "res = res.append({'model':'RF',\n",
    "            'r2':r2_score(ytest, rf.predict(xtest)),\n",
    "            'mean squared error': mean_squared_error(ytest, rf.predict(xtest))},\n",
    "           ignore_index=True)"
   ]
  },
  {
   "cell_type": "code",
   "execution_count": 22,
   "metadata": {},
   "outputs": [
    {
     "data": {
      "text/html": [
       "<div>\n",
       "<style scoped>\n",
       "    .dataframe tbody tr th:only-of-type {\n",
       "        vertical-align: middle;\n",
       "    }\n",
       "\n",
       "    .dataframe tbody tr th {\n",
       "        vertical-align: top;\n",
       "    }\n",
       "\n",
       "    .dataframe thead th {\n",
       "        text-align: right;\n",
       "    }\n",
       "</style>\n",
       "<table border=\"1\" class=\"dataframe\">\n",
       "  <thead>\n",
       "    <tr style=\"text-align: right;\">\n",
       "      <th></th>\n",
       "      <th>model</th>\n",
       "      <th>r2</th>\n",
       "      <th>mean squared error</th>\n",
       "    </tr>\n",
       "  </thead>\n",
       "  <tbody>\n",
       "    <tr>\n",
       "      <th>0</th>\n",
       "      <td>Linear Reg</td>\n",
       "      <td>0.313411</td>\n",
       "      <td>5.379886</td>\n",
       "    </tr>\n",
       "    <tr>\n",
       "      <th>1</th>\n",
       "      <td>Ridge Reg</td>\n",
       "      <td>0.313403</td>\n",
       "      <td>5.379949</td>\n",
       "    </tr>\n",
       "    <tr>\n",
       "      <th>2</th>\n",
       "      <td>SVR</td>\n",
       "      <td>0.746096</td>\n",
       "      <td>1.989505</td>\n",
       "    </tr>\n",
       "    <tr>\n",
       "      <th>3</th>\n",
       "      <td>KNR</td>\n",
       "      <td>0.863027</td>\n",
       "      <td>1.073278</td>\n",
       "    </tr>\n",
       "    <tr>\n",
       "      <th>4</th>\n",
       "      <td>RF</td>\n",
       "      <td>0.874821</td>\n",
       "      <td>0.980861</td>\n",
       "    </tr>\n",
       "  </tbody>\n",
       "</table>\n",
       "</div>"
      ],
      "text/plain": [
       "        model        r2  mean squared error\n",
       "0  Linear Reg  0.313411            5.379886\n",
       "1   Ridge Reg  0.313403            5.379949\n",
       "2         SVR  0.746096            1.989505\n",
       "3         KNR  0.863027            1.073278\n",
       "4          RF  0.874821            0.980861"
      ]
     },
     "execution_count": 22,
     "metadata": {},
     "output_type": "execute_result"
    }
   ],
   "source": [
    "res"
   ]
  },
  {
   "cell_type": "markdown",
   "metadata": {},
   "source": [
    "## Pruebo lo mismo con los datos escalados"
   ]
  },
  {
   "cell_type": "code",
   "execution_count": 23,
   "metadata": {},
   "outputs": [],
   "source": [
    "scaler = StandardScaler().fit(xtrain)\n",
    "xtrain_scal = scaler.transform(xtrain)\n",
    "xtest_scal = scaler.transform(xtest)"
   ]
  },
  {
   "cell_type": "code",
   "execution_count": 24,
   "metadata": {},
   "outputs": [
    {
     "data": {
      "text/plain": [
       "(0.3134111868879067, 5.379886011391578)"
      ]
     },
     "execution_count": 24,
     "metadata": {},
     "output_type": "execute_result"
    }
   ],
   "source": [
    "lr = LinearRegression(n_jobs=4)\n",
    "lr.fit(xtrain_scal, ytrain)\n",
    "r2_score(ytest, lr.predict(xtest_scal)), mean_squared_error(ytest, lr.predict(xtest_scal))"
   ]
  },
  {
   "cell_type": "code",
   "execution_count": 25,
   "metadata": {},
   "outputs": [],
   "source": [
    "res = res.append({'model':'Linear Reg Scal',\n",
    "            'r2':r2_score(ytest, lr.predict(xtest_scal)),\n",
    "            'mean squared error':mean_squared_error(ytest, lr.predict(xtest_scal))},\n",
    "           ignore_index=True)"
   ]
  },
  {
   "cell_type": "code",
   "execution_count": 26,
   "metadata": {},
   "outputs": [
    {
     "data": {
      "text/plain": [
       "(0.31331354226327834, 5.380651122823769)"
      ]
     },
     "execution_count": 26,
     "metadata": {},
     "output_type": "execute_result"
    }
   ],
   "source": [
    "r = Ridge()\n",
    "r.fit(xtrain_scal, ytrain)\n",
    "r2_score(ytest, r.predict(xtest_scal)), mean_squared_error(ytest, r.predict(xtest_scal))"
   ]
  },
  {
   "cell_type": "code",
   "execution_count": 27,
   "metadata": {},
   "outputs": [],
   "source": [
    "res = res.append({'model':'Ridge Reg Scal',\n",
    "            'r2':r2_score(ytest, r.predict(xtest_scal)),\n",
    "            'mean squared error':mean_squared_error(ytest, r.predict(xtest_scal))},\n",
    "           ignore_index=True)"
   ]
  },
  {
   "cell_type": "code",
   "execution_count": 28,
   "metadata": {},
   "outputs": [
    {
     "data": {
      "text/plain": [
       "(0.746096476231106, 1.9895052026492774)"
      ]
     },
     "execution_count": 28,
     "metadata": {},
     "output_type": "execute_result"
    }
   ],
   "source": [
    "svr = SVR()\n",
    "svr.fit(xtrain_scal, ytrain)\n",
    "r2_score(ytest, svr.predict(xtest_scal)), mean_squared_error(ytest, svr.predict(xtest_scal))"
   ]
  },
  {
   "cell_type": "code",
   "execution_count": 29,
   "metadata": {},
   "outputs": [],
   "source": [
    "res = res.append({'model':'SVR Scal',\n",
    "            'r2':r2_score(ytest, svr.predict(xtest_scal)),\n",
    "            'mean squared error':mean_squared_error(ytest, svr.predict(xtest_scal))},\n",
    "           ignore_index=True)"
   ]
  },
  {
   "cell_type": "code",
   "execution_count": 30,
   "metadata": {},
   "outputs": [
    {
     "data": {
      "text/plain": [
       "(0.8630267111574106, 1.0732780180882988)"
      ]
     },
     "execution_count": 30,
     "metadata": {},
     "output_type": "execute_result"
    }
   ],
   "source": [
    "knr = KNeighborsRegressor(n_jobs=4)\n",
    "knr.fit(xtrain_scal, ytrain)\n",
    "r2_score(ytest, knr.predict(xtest_scal)), mean_squared_error(ytest, knr.predict(xtest_scal))"
   ]
  },
  {
   "cell_type": "code",
   "execution_count": 31,
   "metadata": {},
   "outputs": [],
   "source": [
    "res = res.append({'model':'KNR Scal',\n",
    "            'r2':r2_score(ytest, knr.predict(xtest_scal)),\n",
    "            'mean squared error': mean_squared_error(ytest, knr.predict(xtest_scal))},\n",
    "           ignore_index=True)"
   ]
  },
  {
   "cell_type": "code",
   "execution_count": 32,
   "metadata": {},
   "outputs": [
    {
     "data": {
      "text/plain": [
       "(0.8801174549249625, 0.939360524002477)"
      ]
     },
     "execution_count": 32,
     "metadata": {},
     "output_type": "execute_result"
    }
   ],
   "source": [
    "rf = RandomForestRegressor(n_jobs=4)\n",
    "rf.fit(xtrain_scal, ytrain)\n",
    "r2_score(ytest, rf.predict(xtest_scal)), mean_squared_error(ytest, rf.predict(xtest_scal))"
   ]
  },
  {
   "cell_type": "code",
   "execution_count": 33,
   "metadata": {},
   "outputs": [],
   "source": [
    "res = res.append({'model':'RF Scal',\n",
    "            'r2':r2_score(ytest, rf.predict(xtest_scal)),\n",
    "            'mean squared error': mean_squared_error(ytest, rf.predict(xtest_scal))},\n",
    "           ignore_index=True)"
   ]
  },
  {
   "cell_type": "code",
   "execution_count": 34,
   "metadata": {},
   "outputs": [
    {
     "data": {
      "text/html": [
       "<div>\n",
       "<style scoped>\n",
       "    .dataframe tbody tr th:only-of-type {\n",
       "        vertical-align: middle;\n",
       "    }\n",
       "\n",
       "    .dataframe tbody tr th {\n",
       "        vertical-align: top;\n",
       "    }\n",
       "\n",
       "    .dataframe thead th {\n",
       "        text-align: right;\n",
       "    }\n",
       "</style>\n",
       "<table border=\"1\" class=\"dataframe\">\n",
       "  <thead>\n",
       "    <tr style=\"text-align: right;\">\n",
       "      <th></th>\n",
       "      <th>model</th>\n",
       "      <th>r2</th>\n",
       "      <th>mean squared error</th>\n",
       "    </tr>\n",
       "  </thead>\n",
       "  <tbody>\n",
       "    <tr>\n",
       "      <th>9</th>\n",
       "      <td>RF Scal</td>\n",
       "      <td>0.880117</td>\n",
       "      <td>0.939361</td>\n",
       "    </tr>\n",
       "    <tr>\n",
       "      <th>4</th>\n",
       "      <td>RF</td>\n",
       "      <td>0.874821</td>\n",
       "      <td>0.980861</td>\n",
       "    </tr>\n",
       "    <tr>\n",
       "      <th>3</th>\n",
       "      <td>KNR</td>\n",
       "      <td>0.863027</td>\n",
       "      <td>1.073278</td>\n",
       "    </tr>\n",
       "    <tr>\n",
       "      <th>8</th>\n",
       "      <td>KNR Scal</td>\n",
       "      <td>0.863027</td>\n",
       "      <td>1.073278</td>\n",
       "    </tr>\n",
       "    <tr>\n",
       "      <th>2</th>\n",
       "      <td>SVR</td>\n",
       "      <td>0.746096</td>\n",
       "      <td>1.989505</td>\n",
       "    </tr>\n",
       "    <tr>\n",
       "      <th>7</th>\n",
       "      <td>SVR Scal</td>\n",
       "      <td>0.746096</td>\n",
       "      <td>1.989505</td>\n",
       "    </tr>\n",
       "    <tr>\n",
       "      <th>5</th>\n",
       "      <td>Linear Reg Scal</td>\n",
       "      <td>0.313411</td>\n",
       "      <td>5.379886</td>\n",
       "    </tr>\n",
       "    <tr>\n",
       "      <th>0</th>\n",
       "      <td>Linear Reg</td>\n",
       "      <td>0.313411</td>\n",
       "      <td>5.379886</td>\n",
       "    </tr>\n",
       "    <tr>\n",
       "      <th>1</th>\n",
       "      <td>Ridge Reg</td>\n",
       "      <td>0.313403</td>\n",
       "      <td>5.379949</td>\n",
       "    </tr>\n",
       "    <tr>\n",
       "      <th>6</th>\n",
       "      <td>Ridge Reg Scal</td>\n",
       "      <td>0.313314</td>\n",
       "      <td>5.380651</td>\n",
       "    </tr>\n",
       "  </tbody>\n",
       "</table>\n",
       "</div>"
      ],
      "text/plain": [
       "             model        r2  mean squared error\n",
       "9          RF Scal  0.880117            0.939361\n",
       "4               RF  0.874821            0.980861\n",
       "3              KNR  0.863027            1.073278\n",
       "8         KNR Scal  0.863027            1.073278\n",
       "2              SVR  0.746096            1.989505\n",
       "7         SVR Scal  0.746096            1.989505\n",
       "5  Linear Reg Scal  0.313411            5.379886\n",
       "0       Linear Reg  0.313411            5.379886\n",
       "1        Ridge Reg  0.313403            5.379949\n",
       "6   Ridge Reg Scal  0.313314            5.380651"
      ]
     },
     "execution_count": 34,
     "metadata": {},
     "output_type": "execute_result"
    }
   ],
   "source": [
    "res.sort_values('mean squared error')"
   ]
  },
  {
   "cell_type": "markdown",
   "metadata": {},
   "source": [
    "Dado que el rango de valores no variaba mucho el escalado no modifico mucho los datos y no se notan cambios en los resultados"
   ]
  },
  {
   "cell_type": "markdown",
   "metadata": {},
   "source": [
    "### Pruebo agregando features polinomicas escaladas"
   ]
  },
  {
   "cell_type": "code",
   "execution_count": 35,
   "metadata": {},
   "outputs": [],
   "source": [
    "poly = PolynomialFeatures(3, include_bias=False)\n",
    "xtrain_poly = poly.fit_transform(xtrain)\n",
    "xtest_poly = poly.transform(xtest)\n",
    "\n",
    "scaler = StandardScaler().fit(xtrain_poly)\n",
    "\n",
    "xtrain_poly = scaler.transform(xtrain_poly)\n",
    "xtest_poly = scaler.transform(xtest_poly)"
   ]
  },
  {
   "cell_type": "code",
   "execution_count": 36,
   "metadata": {},
   "outputs": [
    {
     "data": {
      "text/plain": [
       "(0.9150615568475722, 0.6655499382139245)"
      ]
     },
     "execution_count": 36,
     "metadata": {},
     "output_type": "execute_result"
    }
   ],
   "source": [
    "lr = LinearRegression(n_jobs=4)\n",
    "lr.fit(xtrain_poly, ytrain)\n",
    "r2_score(ytest, lr.predict(xtest_poly)), mean_squared_error(ytest, lr.predict(xtest_poly))"
   ]
  },
  {
   "cell_type": "code",
   "execution_count": 37,
   "metadata": {},
   "outputs": [],
   "source": [
    "res = res.append({'model':'Linear Reg Poly',\n",
    "            'r2':r2_score(ytest, lr.predict(xtest_poly)),\n",
    "            'mean squared error':mean_squared_error(ytest, lr.predict(xtest_poly))},\n",
    "           ignore_index=True)"
   ]
  },
  {
   "cell_type": "code",
   "execution_count": 38,
   "metadata": {},
   "outputs": [
    {
     "data": {
      "text/plain": [
       "(0.6078370007471581, 3.072861359774709)"
      ]
     },
     "execution_count": 38,
     "metadata": {},
     "output_type": "execute_result"
    }
   ],
   "source": [
    "r = Ridge()\n",
    "r.fit(xtrain_poly, ytrain)\n",
    "r2_score(ytest, r.predict(xtest_poly)), mean_squared_error(ytest, r.predict(xtest_poly))"
   ]
  },
  {
   "cell_type": "code",
   "execution_count": 39,
   "metadata": {},
   "outputs": [],
   "source": [
    "res = res.append({'model':'Ridge Reg Poly',\n",
    "            'r2':r2_score(ytest, r.predict(xtest_poly)),\n",
    "            'mean squared error':mean_squared_error(ytest, r.predict(xtest_poly))},\n",
    "           ignore_index=True)"
   ]
  },
  {
   "cell_type": "code",
   "execution_count": 40,
   "metadata": {},
   "outputs": [
    {
     "data": {
      "text/plain": [
       "(0.7625767964410979, 1.8603707884733296)"
      ]
     },
     "execution_count": 40,
     "metadata": {},
     "output_type": "execute_result"
    }
   ],
   "source": [
    "svr = SVR()\n",
    "svr.fit(xtrain_poly, ytrain)\n",
    "r2_score(ytest, svr.predict(xtest_poly)), mean_squared_error(ytest, svr.predict(xtest_poly))"
   ]
  },
  {
   "cell_type": "code",
   "execution_count": 41,
   "metadata": {},
   "outputs": [],
   "source": [
    "res = res.append({'model':'SVR Poly',\n",
    "            'r2':r2_score(ytest, svr.predict(xtest_poly)),\n",
    "            'mean squared error':mean_squared_error(ytest, svr.predict(xtest_poly))},\n",
    "           ignore_index=True)"
   ]
  },
  {
   "cell_type": "code",
   "execution_count": 42,
   "metadata": {},
   "outputs": [
    {
     "data": {
      "text/plain": [
       "(0.8630267111574106, 1.0732780180882988)"
      ]
     },
     "execution_count": 42,
     "metadata": {},
     "output_type": "execute_result"
    }
   ],
   "source": [
    "knr = KNeighborsRegressor(n_jobs=4)\n",
    "knr.fit(xtrain_poly, ytrain)\n",
    "r2_score(ytest, knr.predict(xtest_poly)), mean_squared_error(ytest, knr.predict(xtest_poly))"
   ]
  },
  {
   "cell_type": "code",
   "execution_count": 43,
   "metadata": {},
   "outputs": [],
   "source": [
    "res = res.append({'model':'KNR Poly',\n",
    "            'r2':r2_score(ytest, knr.predict(xtest_poly)),\n",
    "            'mean squared error': mean_squared_error(ytest, knr.predict(xtest_poly))},\n",
    "           ignore_index=True)"
   ]
  },
  {
   "cell_type": "code",
   "execution_count": 44,
   "metadata": {},
   "outputs": [
    {
     "data": {
      "text/plain": [
       "(0.8896104811059466, 0.8649762669602448)"
      ]
     },
     "execution_count": 44,
     "metadata": {},
     "output_type": "execute_result"
    }
   ],
   "source": [
    "rf = RandomForestRegressor(n_jobs=4)\n",
    "rf.fit(xtrain_poly, ytrain)\n",
    "r2_score(ytest, rf.predict(xtest_poly)), mean_squared_error(ytest, rf.predict(xtest_poly))"
   ]
  },
  {
   "cell_type": "code",
   "execution_count": 45,
   "metadata": {},
   "outputs": [],
   "source": [
    "res = res.append({'model':'RF Poly',\n",
    "            'r2':r2_score(ytest, rf.predict(xtest_poly)),\n",
    "            'mean squared error': mean_squared_error(ytest, rf.predict(xtest_poly))},\n",
    "           ignore_index=True)"
   ]
  },
  {
   "cell_type": "code",
   "execution_count": 46,
   "metadata": {},
   "outputs": [
    {
     "data": {
      "text/html": [
       "<div>\n",
       "<style scoped>\n",
       "    .dataframe tbody tr th:only-of-type {\n",
       "        vertical-align: middle;\n",
       "    }\n",
       "\n",
       "    .dataframe tbody tr th {\n",
       "        vertical-align: top;\n",
       "    }\n",
       "\n",
       "    .dataframe thead th {\n",
       "        text-align: right;\n",
       "    }\n",
       "</style>\n",
       "<table border=\"1\" class=\"dataframe\">\n",
       "  <thead>\n",
       "    <tr style=\"text-align: right;\">\n",
       "      <th></th>\n",
       "      <th>model</th>\n",
       "      <th>r2</th>\n",
       "      <th>mean squared error</th>\n",
       "    </tr>\n",
       "  </thead>\n",
       "  <tbody>\n",
       "    <tr>\n",
       "      <th>10</th>\n",
       "      <td>Linear Reg Poly</td>\n",
       "      <td>0.915062</td>\n",
       "      <td>0.665550</td>\n",
       "    </tr>\n",
       "    <tr>\n",
       "      <th>14</th>\n",
       "      <td>RF Poly</td>\n",
       "      <td>0.889610</td>\n",
       "      <td>0.864976</td>\n",
       "    </tr>\n",
       "    <tr>\n",
       "      <th>9</th>\n",
       "      <td>RF Scal</td>\n",
       "      <td>0.880117</td>\n",
       "      <td>0.939361</td>\n",
       "    </tr>\n",
       "    <tr>\n",
       "      <th>4</th>\n",
       "      <td>RF</td>\n",
       "      <td>0.874821</td>\n",
       "      <td>0.980861</td>\n",
       "    </tr>\n",
       "    <tr>\n",
       "      <th>3</th>\n",
       "      <td>KNR</td>\n",
       "      <td>0.863027</td>\n",
       "      <td>1.073278</td>\n",
       "    </tr>\n",
       "    <tr>\n",
       "      <th>8</th>\n",
       "      <td>KNR Scal</td>\n",
       "      <td>0.863027</td>\n",
       "      <td>1.073278</td>\n",
       "    </tr>\n",
       "    <tr>\n",
       "      <th>13</th>\n",
       "      <td>KNR Poly</td>\n",
       "      <td>0.863027</td>\n",
       "      <td>1.073278</td>\n",
       "    </tr>\n",
       "    <tr>\n",
       "      <th>12</th>\n",
       "      <td>SVR Poly</td>\n",
       "      <td>0.762577</td>\n",
       "      <td>1.860371</td>\n",
       "    </tr>\n",
       "    <tr>\n",
       "      <th>2</th>\n",
       "      <td>SVR</td>\n",
       "      <td>0.746096</td>\n",
       "      <td>1.989505</td>\n",
       "    </tr>\n",
       "    <tr>\n",
       "      <th>7</th>\n",
       "      <td>SVR Scal</td>\n",
       "      <td>0.746096</td>\n",
       "      <td>1.989505</td>\n",
       "    </tr>\n",
       "    <tr>\n",
       "      <th>11</th>\n",
       "      <td>Ridge Reg Poly</td>\n",
       "      <td>0.607837</td>\n",
       "      <td>3.072861</td>\n",
       "    </tr>\n",
       "    <tr>\n",
       "      <th>5</th>\n",
       "      <td>Linear Reg Scal</td>\n",
       "      <td>0.313411</td>\n",
       "      <td>5.379886</td>\n",
       "    </tr>\n",
       "    <tr>\n",
       "      <th>0</th>\n",
       "      <td>Linear Reg</td>\n",
       "      <td>0.313411</td>\n",
       "      <td>5.379886</td>\n",
       "    </tr>\n",
       "    <tr>\n",
       "      <th>1</th>\n",
       "      <td>Ridge Reg</td>\n",
       "      <td>0.313403</td>\n",
       "      <td>5.379949</td>\n",
       "    </tr>\n",
       "    <tr>\n",
       "      <th>6</th>\n",
       "      <td>Ridge Reg Scal</td>\n",
       "      <td>0.313314</td>\n",
       "      <td>5.380651</td>\n",
       "    </tr>\n",
       "  </tbody>\n",
       "</table>\n",
       "</div>"
      ],
      "text/plain": [
       "              model        r2  mean squared error\n",
       "10  Linear Reg Poly  0.915062            0.665550\n",
       "14          RF Poly  0.889610            0.864976\n",
       "9           RF Scal  0.880117            0.939361\n",
       "4                RF  0.874821            0.980861\n",
       "3               KNR  0.863027            1.073278\n",
       "8          KNR Scal  0.863027            1.073278\n",
       "13         KNR Poly  0.863027            1.073278\n",
       "12         SVR Poly  0.762577            1.860371\n",
       "2               SVR  0.746096            1.989505\n",
       "7          SVR Scal  0.746096            1.989505\n",
       "11   Ridge Reg Poly  0.607837            3.072861\n",
       "5   Linear Reg Scal  0.313411            5.379886\n",
       "0        Linear Reg  0.313411            5.379886\n",
       "1         Ridge Reg  0.313403            5.379949\n",
       "6    Ridge Reg Scal  0.313314            5.380651"
      ]
     },
     "execution_count": 46,
     "metadata": {},
     "output_type": "execute_result"
    }
   ],
   "source": [
    "res.sort_values('mean squared error')"
   ]
  },
  {
   "cell_type": "code",
   "execution_count": 47,
   "metadata": {},
   "outputs": [
    {
     "data": {
      "image/png": "[encoded data removed]",
      "text/plain": [
       "<Figure size 432x288 with 1 Axes>"
      ]
     },
     "metadata": {
      "needs_background": "light"
     },
     "output_type": "display_data"
    }
   ],
   "source": [
    "plt.scatter(xtest.reshape(1,-1)[0], ytest)\n",
    "plt.scatter(xtest.reshape(1,-1)[0], lr.predict(xtest_poly))\n",
    "plt.show()"
   ]
  },
  {
   "cell_type": "markdown",
   "metadata": {},
   "source": [
    "## Analizo PCA con la feature original y las polinomiales tambien"
   ]
  },
  {
   "cell_type": "code",
   "execution_count": 48,
   "metadata": {},
   "outputs": [],
   "source": [
    "n_comps = xtrain.shape[1]\n",
    "\n",
    "pca = PCA(n_components= n_comps)\n",
    "\n",
    "train_pca = pca.fit_transform(xtrain_scal)\n",
    "\n",
    "test_pca = pca.transform(xtest_scal)"
   ]
  },
  {
   "cell_type": "code",
   "execution_count": 49,
   "metadata": {},
   "outputs": [
    {
     "data": {
      "text/plain": [
       "(0.3134111868879067, 5.379886011391578)"
      ]
     },
     "execution_count": 49,
     "metadata": {},
     "output_type": "execute_result"
    }
   ],
   "source": [
    "lr = LinearRegression(n_jobs=4)\n",
    "lr.fit(train_pca, ytrain)\n",
    "r2_score(ytest, lr.predict(test_pca)), mean_squared_error(ytest, lr.predict(test_pca))"
   ]
  },
  {
   "cell_type": "code",
   "execution_count": 50,
   "metadata": {},
   "outputs": [],
   "source": [
    "res = res.append({'model':'Linear Reg PCA',\n",
    "            'r2':r2_score(ytest, lr.predict(test_pca)),\n",
    "            'mean squared error':mean_squared_error(ytest, lr.predict(test_pca))},\n",
    "           ignore_index=True)"
   ]
  },
  {
   "cell_type": "code",
   "execution_count": 51,
   "metadata": {},
   "outputs": [
    {
     "data": {
      "text/plain": [
       "(0.31331354226327823, 5.380651122823769)"
      ]
     },
     "execution_count": 51,
     "metadata": {},
     "output_type": "execute_result"
    }
   ],
   "source": [
    "r = Ridge()\n",
    "r.fit(train_pca, ytrain)\n",
    "r2_score(ytest, r.predict(test_pca)), mean_squared_error(ytest, r.predict(test_pca))"
   ]
  },
  {
   "cell_type": "code",
   "execution_count": 52,
   "metadata": {},
   "outputs": [],
   "source": [
    "res = res.append({'model':'Ridge Reg PCA',\n",
    "            'r2':r2_score(ytest, r.predict(test_pca)),\n",
    "            'mean squared error':mean_squared_error(ytest, r.predict(test_pca))},\n",
    "           ignore_index=True)"
   ]
  },
  {
   "cell_type": "code",
   "execution_count": 53,
   "metadata": {},
   "outputs": [
    {
     "data": {
      "text/plain": [
       "(0.746096476231106, 1.989505202649278)"
      ]
     },
     "execution_count": 53,
     "metadata": {},
     "output_type": "execute_result"
    }
   ],
   "source": [
    "svr = SVR()\n",
    "svr.fit(train_pca, ytrain)\n",
    "r2_score(ytest, svr.predict(test_pca)), mean_squared_error(ytest, svr.predict(test_pca))"
   ]
  },
  {
   "cell_type": "code",
   "execution_count": 54,
   "metadata": {},
   "outputs": [],
   "source": [
    "res = res.append({'model':'SVR PCA',\n",
    "            'r2':r2_score(ytest, svr.predict(test_pca)),\n",
    "            'mean squared error':mean_squared_error(ytest, svr.predict(test_pca))},\n",
    "           ignore_index=True)"
   ]
  },
  {
   "cell_type": "code",
   "execution_count": 55,
   "metadata": {},
   "outputs": [
    {
     "data": {
      "text/plain": [
       "(0.8630267111574106, 1.0732780180882988)"
      ]
     },
     "execution_count": 55,
     "metadata": {},
     "output_type": "execute_result"
    }
   ],
   "source": [
    "knr = KNeighborsRegressor(n_jobs=4)\n",
    "knr.fit(train_pca, ytrain)\n",
    "r2_score(ytest, knr.predict(test_pca)), mean_squared_error(ytest, knr.predict(test_pca))"
   ]
  },
  {
   "cell_type": "code",
   "execution_count": 56,
   "metadata": {},
   "outputs": [],
   "source": [
    "res = res.append({'model':'KNR PCA',\n",
    "            'r2':r2_score(ytest, knr.predict(test_pca)),\n",
    "            'mean squared error': mean_squared_error(ytest, knr.predict(test_pca))},\n",
    "           ignore_index=True)"
   ]
  },
  {
   "cell_type": "code",
   "execution_count": 57,
   "metadata": {},
   "outputs": [
    {
     "data": {
      "text/plain": [
       "(0.8819648998617768, 0.9248845480142679)"
      ]
     },
     "execution_count": 57,
     "metadata": {},
     "output_type": "execute_result"
    }
   ],
   "source": [
    "rf = RandomForestRegressor(n_jobs=4)\n",
    "rf.fit(train_pca, ytrain)\n",
    "r2_score(ytest, rf.predict(test_pca)), mean_squared_error(ytest, rf.predict(test_pca))"
   ]
  },
  {
   "cell_type": "code",
   "execution_count": 58,
   "metadata": {},
   "outputs": [],
   "source": [
    "res = res.append({'model':'RF PCA',\n",
    "            'r2':r2_score(ytest, rf.predict(test_pca)),\n",
    "            'mean squared error': mean_squared_error(ytest, rf.predict(test_pca))},\n",
    "           ignore_index=True)"
   ]
  },
  {
   "cell_type": "code",
   "execution_count": 59,
   "metadata": {},
   "outputs": [
    {
     "data": {
      "text/html": [
       "<div>\n",
       "<style scoped>\n",
       "    .dataframe tbody tr th:only-of-type {\n",
       "        vertical-align: middle;\n",
       "    }\n",
       "\n",
       "    .dataframe tbody tr th {\n",
       "        vertical-align: top;\n",
       "    }\n",
       "\n",
       "    .dataframe thead th {\n",
       "        text-align: right;\n",
       "    }\n",
       "</style>\n",
       "<table border=\"1\" class=\"dataframe\">\n",
       "  <thead>\n",
       "    <tr style=\"text-align: right;\">\n",
       "      <th></th>\n",
       "      <th>model</th>\n",
       "      <th>r2</th>\n",
       "      <th>mean squared error</th>\n",
       "    </tr>\n",
       "  </thead>\n",
       "  <tbody>\n",
       "    <tr>\n",
       "      <th>10</th>\n",
       "      <td>Linear Reg Poly</td>\n",
       "      <td>0.915062</td>\n",
       "      <td>0.665550</td>\n",
       "    </tr>\n",
       "    <tr>\n",
       "      <th>14</th>\n",
       "      <td>RF Poly</td>\n",
       "      <td>0.889610</td>\n",
       "      <td>0.864976</td>\n",
       "    </tr>\n",
       "    <tr>\n",
       "      <th>19</th>\n",
       "      <td>RF PCA</td>\n",
       "      <td>0.881965</td>\n",
       "      <td>0.924885</td>\n",
       "    </tr>\n",
       "    <tr>\n",
       "      <th>9</th>\n",
       "      <td>RF Scal</td>\n",
       "      <td>0.880117</td>\n",
       "      <td>0.939361</td>\n",
       "    </tr>\n",
       "    <tr>\n",
       "      <th>4</th>\n",
       "      <td>RF</td>\n",
       "      <td>0.874821</td>\n",
       "      <td>0.980861</td>\n",
       "    </tr>\n",
       "    <tr>\n",
       "      <th>8</th>\n",
       "      <td>KNR Scal</td>\n",
       "      <td>0.863027</td>\n",
       "      <td>1.073278</td>\n",
       "    </tr>\n",
       "    <tr>\n",
       "      <th>18</th>\n",
       "      <td>KNR PCA</td>\n",
       "      <td>0.863027</td>\n",
       "      <td>1.073278</td>\n",
       "    </tr>\n",
       "    <tr>\n",
       "      <th>13</th>\n",
       "      <td>KNR Poly</td>\n",
       "      <td>0.863027</td>\n",
       "      <td>1.073278</td>\n",
       "    </tr>\n",
       "    <tr>\n",
       "      <th>3</th>\n",
       "      <td>KNR</td>\n",
       "      <td>0.863027</td>\n",
       "      <td>1.073278</td>\n",
       "    </tr>\n",
       "    <tr>\n",
       "      <th>12</th>\n",
       "      <td>SVR Poly</td>\n",
       "      <td>0.762577</td>\n",
       "      <td>1.860371</td>\n",
       "    </tr>\n",
       "    <tr>\n",
       "      <th>2</th>\n",
       "      <td>SVR</td>\n",
       "      <td>0.746096</td>\n",
       "      <td>1.989505</td>\n",
       "    </tr>\n",
       "    <tr>\n",
       "      <th>7</th>\n",
       "      <td>SVR Scal</td>\n",
       "      <td>0.746096</td>\n",
       "      <td>1.989505</td>\n",
       "    </tr>\n",
       "    <tr>\n",
       "      <th>17</th>\n",
       "      <td>SVR PCA</td>\n",
       "      <td>0.746096</td>\n",
       "      <td>1.989505</td>\n",
       "    </tr>\n",
       "    <tr>\n",
       "      <th>11</th>\n",
       "      <td>Ridge Reg Poly</td>\n",
       "      <td>0.607837</td>\n",
       "      <td>3.072861</td>\n",
       "    </tr>\n",
       "    <tr>\n",
       "      <th>5</th>\n",
       "      <td>Linear Reg Scal</td>\n",
       "      <td>0.313411</td>\n",
       "      <td>5.379886</td>\n",
       "    </tr>\n",
       "    <tr>\n",
       "      <th>15</th>\n",
       "      <td>Linear Reg PCA</td>\n",
       "      <td>0.313411</td>\n",
       "      <td>5.379886</td>\n",
       "    </tr>\n",
       "    <tr>\n",
       "      <th>0</th>\n",
       "      <td>Linear Reg</td>\n",
       "      <td>0.313411</td>\n",
       "      <td>5.379886</td>\n",
       "    </tr>\n",
       "    <tr>\n",
       "      <th>1</th>\n",
       "      <td>Ridge Reg</td>\n",
       "      <td>0.313403</td>\n",
       "      <td>5.379949</td>\n",
       "    </tr>\n",
       "    <tr>\n",
       "      <th>6</th>\n",
       "      <td>Ridge Reg Scal</td>\n",
       "      <td>0.313314</td>\n",
       "      <td>5.380651</td>\n",
       "    </tr>\n",
       "    <tr>\n",
       "      <th>16</th>\n",
       "      <td>Ridge Reg PCA</td>\n",
       "      <td>0.313314</td>\n",
       "      <td>5.380651</td>\n",
       "    </tr>\n",
       "  </tbody>\n",
       "</table>\n",
       "</div>"
      ],
      "text/plain": [
       "              model        r2  mean squared error\n",
       "10  Linear Reg Poly  0.915062            0.665550\n",
       "14          RF Poly  0.889610            0.864976\n",
       "19           RF PCA  0.881965            0.924885\n",
       "9           RF Scal  0.880117            0.939361\n",
       "4                RF  0.874821            0.980861\n",
       "8          KNR Scal  0.863027            1.073278\n",
       "18          KNR PCA  0.863027            1.073278\n",
       "13         KNR Poly  0.863027            1.073278\n",
       "3               KNR  0.863027            1.073278\n",
       "12         SVR Poly  0.762577            1.860371\n",
       "2               SVR  0.746096            1.989505\n",
       "7          SVR Scal  0.746096            1.989505\n",
       "17          SVR PCA  0.746096            1.989505\n",
       "11   Ridge Reg Poly  0.607837            3.072861\n",
       "5   Linear Reg Scal  0.313411            5.379886\n",
       "15   Linear Reg PCA  0.313411            5.379886\n",
       "0        Linear Reg  0.313411            5.379886\n",
       "1         Ridge Reg  0.313403            5.379949\n",
       "6    Ridge Reg Scal  0.313314            5.380651\n",
       "16    Ridge Reg PCA  0.313314            5.380651"
      ]
     },
     "execution_count": 59,
     "metadata": {},
     "output_type": "execute_result"
    }
   ],
   "source": [
    "res.sort_values('mean squared error')"
   ]
  },
  {
   "cell_type": "markdown",
   "metadata": {},
   "source": [
    "## Analizo el mejor modelo"
   ]
  },
  {
   "cell_type": "code",
   "execution_count": 60,
   "metadata": {},
   "outputs": [
    {
     "data": {
      "text/plain": [
       "(0.9150615568475722, 0.6655499382139245)"
      ]
     },
     "execution_count": 60,
     "metadata": {},
     "output_type": "execute_result"
    }
   ],
   "source": [
    "lr = LinearRegression()\n",
    "lr.fit(xtrain_poly, ytrain)\n",
    "r2_score(ytest, lr.predict(xtest_poly)),mean_squared_error(ytest, lr.predict(xtest_poly))"
   ]
  },
  {
   "cell_type": "code",
   "execution_count": 61,
   "metadata": {},
   "outputs": [
    {
     "data": {
      "image/png": "[encoded data removed]",
      "text/plain": [
       "<Figure size 432x288 with 1 Axes>"
      ]
     },
     "metadata": {
      "needs_background": "light"
     },
     "output_type": "display_data"
    }
   ],
   "source": [
    "plt.scatter(xtest, ytest)\n",
    "plt.scatter(xtest, lr.predict(xtest_poly))\n",
    "plt.show()"
   ]
  },
  {
   "cell_type": "markdown",
   "metadata": {},
   "source": [
    "### Una vez elegido el modelo lo re entreno con todo el dataset"
   ]
  },
  {
   "cell_type": "code",
   "execution_count": 62,
   "metadata": {},
   "outputs": [],
   "source": [
    "poly = PolynomialFeatures(3, include_bias=False)\n",
    "x = df_raw.X.to_numpy()\n",
    "\n",
    "xtrain_poly = poly.fit_transform(x.reshape(-1,1))\n",
    "\n",
    "scaler = StandardScaler().fit(xtrain_poly)\n",
    "\n",
    "xtrain_poly = scaler.transform(xtrain_poly)"
   ]
  },
  {
   "cell_type": "code",
   "execution_count": 63,
   "metadata": {},
   "outputs": [
    {
     "data": {
      "text/plain": [
       "LinearRegression()"
      ]
     },
     "execution_count": 63,
     "metadata": {},
     "output_type": "execute_result"
    }
   ],
   "source": [
    "lr = LinearRegression()\n",
    "lr.fit(xtrain_poly, df_raw.y)"
   ]
  },
  {
   "cell_type": "code",
   "execution_count": 64,
   "metadata": {},
   "outputs": [
    {
     "data": {
      "image/png": "[encoded data removed]",
      "text/plain": [
       "<Figure size 432x288 with 1 Axes>"
      ]
     },
     "metadata": {
      "needs_background": "light"
     },
     "output_type": "display_data"
    }
   ],
   "source": [
    "plt.scatter(df_raw.X, df_raw.y)\n",
    "plt.scatter(df_raw.X, lr.predict(xtrain_poly))\n",
    "plt.show()"
   ]
  },
  {
   "cell_type": "markdown",
   "metadata": {},
   "source": [
    "## Importo el test set para calcular las salidas"
   ]
  },
  {
   "cell_type": "code",
   "execution_count": 65,
   "metadata": {},
   "outputs": [],
   "source": [
    "df_test = pd.read_csv('data/X_test.csv', delimiter=',')"
   ]
  },
  {
   "cell_type": "code",
   "execution_count": 66,
   "metadata": {},
   "outputs": [],
   "source": [
    "test_poly = poly.transform(df_test)\n",
    "\n",
    "test = scaler.transform(test_poly)"
   ]
  },
  {
   "cell_type": "code",
   "execution_count": 67,
   "metadata": {},
   "outputs": [
    {
     "data": {
      "text/plain": [
       "array([ 7.89525583,  7.89981307, 10.0124333 ,  8.64538923,  8.6937002 ,\n",
       "        7.93244721,  9.64873208,  2.39445755, 10.96474489,  8.69144632,\n",
       "        8.66607357,  7.91044072, 11.05738391,  2.86512375,  8.23142481,\n",
       "        9.05600256,  8.13387351,  7.89973728,  8.1528852 ,  7.89848393])"
      ]
     },
     "execution_count": 67,
     "metadata": {},
     "output_type": "execute_result"
    }
   ],
   "source": [
    "ytestpred = (rf.predict(df_test) + lr.predict(test))/2\n",
    "ytestpred"
   ]
  },
  {
   "cell_type": "code",
   "execution_count": 68,
   "metadata": {},
   "outputs": [
    {
     "data": {
      "image/png": "[encoded data removed]",
      "text/plain": [
       "<Figure size 432x288 with 1 Axes>"
      ]
     },
     "metadata": {
      "needs_background": "light"
     },
     "output_type": "display_data"
    }
   ],
   "source": [
    "plt.scatter(df_test, lr.predict(test))\n",
    "plt.show()"
   ]
  }
 ],
 "metadata": {
  "kernelspec": {
   "display_name": "Python 3",
   "language": "python",
   "name": "python3"
  },
  "language_info": {
   "codemirror_mode": {
    "name": "ipython",
    "version": 3
   },
   "file_extension": ".py",
   "mimetype": "text/x-python",
   "name": "python",
   "nbconvert_exporter": "python",
   "pygments_lexer": "ipython3",
   "version": "3.6.11"
  }
 },
 "nbformat": 4,
 "nbformat_minor": 4
}
